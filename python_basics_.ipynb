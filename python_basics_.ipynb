{
  "nbformat": 4,
  "nbformat_minor": 0,
  "metadata": {
    "colab": {
      "provenance": []
    },
    "kernelspec": {
      "name": "python3",
      "display_name": "Python 3"
    },
    "language_info": {
      "name": "python"
    }
  },
  "cells": [
    {
      "cell_type": "markdown",
      "source": [
        "<a id='1'></a><center> <h3 style=\"background-color:orange; color:white\" ><br>Python Basics<br></h3>\n"
      ],
      "metadata": {
        "id": "c9Cy3zwKB9e0"
      }
    },
    {
      "cell_type": "code",
      "execution_count": 2,
      "metadata": {
        "colab": {
          "base_uri": "https://localhost:8080/"
        },
        "id": "L0YXiFXF-jeM",
        "outputId": "dd04638b-3a45-4483-e292-4c27863bbdf5"
      },
      "outputs": [
        {
          "output_type": "stream",
          "name": "stdout",
          "text": [
            "Midhun Roy\n"
          ]
        }
      ],
      "source": [
        "# What is your name! print your name! \n",
        "# Only use one print function\n",
        "print(\"Midhun Roy\")"
      ]
    },
    {
      "cell_type": "markdown",
      "source": [
        "* `()` <= `Parentheses`\n",
        "* `''` <= `Single Quotes`\n",
        "* `\"\"` <= `Double Quotes`\n",
        "* `\\n` <= `New_line `\n",
        "* `#` <= `Used to comment inside code`"
      ],
      "metadata": {
        "id": "fLSrK1vnCDrk"
      }
    },
    {
      "cell_type": "code",
      "source": [
        "# define variables named as with values: mukesh=7, z=6, rohan=5, longitude=4\n",
        "mukesh = 7\n",
        "z = 6\n",
        "rohan = 5\n",
        "longitude = 4"
      ],
      "metadata": {
        "id": "0EjNSA2U-vRy"
      },
      "execution_count": 3,
      "outputs": []
    },
    {
      "cell_type": "code",
      "source": [
        "# print required variable\n",
        "# output - 5\n",
        "print(rohan)"
      ],
      "metadata": {
        "colab": {
          "base_uri": "https://localhost:8080/"
        },
        "id": "MCT-FtIw_aGc",
        "outputId": "3ef9219e-cc78-45e4-d35f-673e5ea8d325"
      },
      "execution_count": 4,
      "outputs": [
        {
          "output_type": "stream",
          "name": "stdout",
          "text": [
            "5\n"
          ]
        }
      ]
    },
    {
      "cell_type": "markdown",
      "source": [
        "Variable Assignment:\n",
        "**`Variable_Name = Value`**\n",
        "\n",
        "Variables Naming Rules:\n",
        "* `Python is case-senstive` => x=5 is different from X=5 (one is lowe and other is upper case)\n",
        "* `var name can't start with special character except underscore(_)` => _X = 7 is `valid`, @X = 7 is `invalid`\n",
        "* `var name can't start with number` => 9X = 7 is `invalid`, X9 = 7 is `valid`\n",
        "* can't use `keywords` as a variable name\n",
        "    * "
      ],
      "metadata": {
        "id": "T99ZDE_uCKtV"
      }
    },
    {
      "cell_type": "markdown",
      "source": [
        "# **`Declaring a Variable`** <br>"
      ],
      "metadata": {
        "id": "t_54P5TfCOV4"
      }
    },
    {
      "cell_type": "code",
      "source": [
        "# declare 4 variables with values as: ur_age 21,ur_weight 50.6, ur_first_name = 'Mukesh',ur_last_name = \"Manral\"\n",
        "ur_age = 22\n",
        "ur_weight = 65\n",
        "ur_first_name = 'Midhun'\n",
        "ur_last_name = \"Roy\"\n"
      ],
      "metadata": {
        "id": "wU-zfGOM_hSE"
      },
      "execution_count": 5,
      "outputs": []
    },
    {
      "cell_type": "markdown",
      "source": [
        "# **`Data Type(Type of variable)`**"
      ],
      "metadata": {
        "id": "LzRBiL-pCSaX"
      }
    },
    {
      "cell_type": "markdown",
      "source": [
        "| Name | Type | Description |\n",
        "| ---- | ---- | ----| \n",
        "|Integers | int | Integer number, like 34,-56 ...|\n",
        "|Float | float | Decimal number, like 3.4,-5.6 ...|\n",
        "|String| str | Ordered sequence of characters, like 'your name' |\n",
        "|Boolean |bool |Logical values indicating True or False only |"
      ],
      "metadata": {
        "id": "K2bpeiRNCViE"
      }
    },
    {
      "cell_type": "code",
      "source": [
        "# print type of ur_age,ur_weight,ur_first_name,ur_last_name variables\n",
        "print(type(ur_age))\n",
        "print(type(ur_weight))\n",
        "print(type(ur_first_name))\n",
        "print(type(ur_last_name))"
      ],
      "metadata": {
        "colab": {
          "base_uri": "https://localhost:8080/"
        },
        "id": "r7f1Q4AF_w_f",
        "outputId": "54ebc32c-010b-41bc-c7ea-997e3f130fb3"
      },
      "execution_count": 6,
      "outputs": [
        {
          "output_type": "stream",
          "name": "stdout",
          "text": [
            "<class 'int'>\n",
            "<class 'int'>\n",
            "<class 'str'>\n",
            "<class 'str'>\n"
          ]
        }
      ]
    },
    {
      "cell_type": "code",
      "source": [
        "# print values of ur_age,ur_weight,ur_first_name,ur_last_name variables\n",
        "print(ur_age)\n",
        "print(ur_weight)\n",
        "print(ur_first_name)\n",
        "print(ur_last_name)"
      ],
      "metadata": {
        "colab": {
          "base_uri": "https://localhost:8080/"
        },
        "id": "PCF5lUX7AdhK",
        "outputId": "53bfbbaf-c095-4569-f603-6e209d731b78"
      },
      "execution_count": 7,
      "outputs": [
        {
          "output_type": "stream",
          "name": "stdout",
          "text": [
            "22\n",
            "65\n",
            "Midhun\n",
            "Roy\n"
          ]
        }
      ]
    },
    {
      "cell_type": "code",
      "source": [
        "# make 2 variables with values as: ur_first_name 'Mukesh',ur_last_name'Mukesh' \n",
        "first_name = 'Midhun'\n",
        "last_name = 'Midhun'\n",
        "# make a variable TrueOrFalse which will have comparison of variables ur_last_name == ur_first_name \n",
        "TrueOrFalse = first_name==last_name\n",
        "print(TrueOrFalse)"
      ],
      "metadata": {
        "colab": {
          "base_uri": "https://localhost:8080/"
        },
        "id": "HSHBSp79A0Vf",
        "outputId": "8c2d3269-6b17-4b18-a543-f7880c2c6260"
      },
      "execution_count": 8,
      "outputs": [
        {
          "output_type": "stream",
          "name": "stdout",
          "text": [
            "True\n"
          ]
        }
      ]
    },
    {
      "cell_type": "code",
      "source": [
        "# define a variable name \"x\" and assign value 777 and print it\n",
        "x = 777\n",
        "print(x)"
      ],
      "metadata": {
        "colab": {
          "base_uri": "https://localhost:8080/"
        },
        "id": "UREjFmI1BigI",
        "outputId": "96deebd3-d2ae-418d-e077-9fb483439ed8"
      },
      "execution_count": 9,
      "outputs": [
        {
          "output_type": "stream",
          "name": "stdout",
          "text": [
            "777\n"
          ]
        }
      ]
    },
    {
      "cell_type": "markdown",
      "source": [
        "* To view some data on screen, python have `print` function\n",
        "    * Using `print` function we can control view on output screen"
      ],
      "metadata": {
        "id": "BbSdoBzoCbM4"
      }
    },
    {
      "cell_type": "markdown",
      "source": [
        "`Operators`: Symbols that represent mathematical or logical tasks \n",
        "\n",
        "Example:<br>\n",
        "`700` `+` `77`<br>\n",
        "* `+` <= Operator\n",
        "* `700` & `77` <= Operands"
      ],
      "metadata": {
        "id": "tvwlaPFsCf9X"
      }
    },
    {
      "cell_type": "code",
      "source": [
        "\n",
        "# Initialize variables [x,y,z,zz] with values \n",
        "## x as 7 =>int ,\n",
        "## y as 77 =>int, \n",
        "## z as 77.7 => float, \n",
        "## zz as 'Hi' => string\n",
        "x = 7\n",
        "y = 77\n",
        "z = 77.7\n",
        "zz = 'Hi'\n"
      ],
      "metadata": {
        "id": "X-33l1yvBqPp"
      },
      "execution_count": 10,
      "outputs": []
    },
    {
      "cell_type": "markdown",
      "source": [
        "# **`Arithmetic Operators`**"
      ],
      "metadata": {
        "id": "EX6UZfGqCjqs"
      }
    },
    {
      "cell_type": "code",
      "source": [
        "# add x and z\n",
        "print(x+z)\n"
      ],
      "metadata": {
        "colab": {
          "base_uri": "https://localhost:8080/"
        },
        "id": "wF_eq7IXCkSZ",
        "outputId": "81ccc83a-d803-4a33-ef7a-e36f277745b0"
      },
      "execution_count": 11,
      "outputs": [
        {
          "output_type": "stream",
          "name": "stdout",
          "text": [
            "84.7\n"
          ]
        }
      ]
    },
    {
      "cell_type": "code",
      "source": [
        "# subtract z and y\n",
        "print(z-y)"
      ],
      "metadata": {
        "colab": {
          "base_uri": "https://localhost:8080/"
        },
        "id": "9ufWsHeSCx7Y",
        "outputId": "ed55e12d-cdaa-44ec-945f-fc1c29125ea4"
      },
      "execution_count": 12,
      "outputs": [
        {
          "output_type": "stream",
          "name": "stdout",
          "text": [
            "0.7000000000000028\n"
          ]
        }
      ]
    },
    {
      "cell_type": "code",
      "source": [
        "# Multiply x and z\n",
        "print(x*z)"
      ],
      "metadata": {
        "colab": {
          "base_uri": "https://localhost:8080/"
        },
        "id": "2702NwmXDOye",
        "outputId": "8c09e56c-8138-49dc-cebf-69769094ab04"
      },
      "execution_count": 13,
      "outputs": [
        {
          "output_type": "stream",
          "name": "stdout",
          "text": [
            "543.9\n"
          ]
        }
      ]
    },
    {
      "cell_type": "code",
      "source": [
        "# Exponent (raise the power or times) x times z\n",
        "print(x**z)"
      ],
      "metadata": {
        "colab": {
          "base_uri": "https://localhost:8080/"
        },
        "id": "7iSVN-6aDXj3",
        "outputId": "8294ed44-01e3-4347-f44d-c6e2475cda65"
      },
      "execution_count": 14,
      "outputs": [
        {
          "output_type": "stream",
          "name": "stdout",
          "text": [
            "4.614426248242042e+65\n"
          ]
        }
      ]
    },
    {
      "cell_type": "code",
      "source": [
        "# division on x and z\n",
        "print(x/z)"
      ],
      "metadata": {
        "colab": {
          "base_uri": "https://localhost:8080/"
        },
        "id": "KumVlY3FDh8K",
        "outputId": "115a240a-5fa2-4733-e1da-b667b87f1e5b"
      },
      "execution_count": 15,
      "outputs": [
        {
          "output_type": "stream",
          "name": "stdout",
          "text": [
            "0.09009009009009009\n"
          ]
        }
      ]
    },
    {
      "cell_type": "markdown",
      "source": [
        "`//` => divides and returns integer value of quotient\n",
        "* It will dump digits after decimal"
      ],
      "metadata": {
        "id": "BHL6aqxXD-dZ"
      }
    },
    {
      "cell_type": "code",
      "source": [
        "# floor division(ignores decimal) on x and z (gives quotient)\n",
        "print(x//z)"
      ],
      "metadata": {
        "colab": {
          "base_uri": "https://localhost:8080/"
        },
        "id": "yNBdi1XWDrFQ",
        "outputId": "7a536500-129d-45c6-e75a-43904a1b7558"
      },
      "execution_count": 16,
      "outputs": [
        {
          "output_type": "stream",
          "name": "stdout",
          "text": [
            "0.0\n"
          ]
        }
      ]
    },
    {
      "cell_type": "code",
      "source": [
        "# Modulo(gives remainder) on x and z\n",
        "print(x%z)"
      ],
      "metadata": {
        "colab": {
          "base_uri": "https://localhost:8080/"
        },
        "id": "OL6y46UZEISD",
        "outputId": "b3a74fc2-6848-4472-a363-f5daec4be206"
      },
      "execution_count": 17,
      "outputs": [
        {
          "output_type": "stream",
          "name": "stdout",
          "text": [
            "7.0\n"
          ]
        }
      ]
    },
    {
      "cell_type": "markdown",
      "source": [
        "# **`Comparison Operators`**"
      ],
      "metadata": {
        "id": "IeyYGj9REUdG"
      }
    },
    {
      "cell_type": "code",
      "source": [
        "# comapre and see if x is less then z \n",
        "# can use '<' symbol\n",
        "print(x<z)"
      ],
      "metadata": {
        "colab": {
          "base_uri": "https://localhost:8080/"
        },
        "id": "THrIV8g-EQvN",
        "outputId": "098526e3-e2dc-4611-8121-f11a1f7f0fdb"
      },
      "execution_count": 18,
      "outputs": [
        {
          "output_type": "stream",
          "name": "stdout",
          "text": [
            "True\n"
          ]
        }
      ]
    },
    {
      "cell_type": "code",
      "source": [
        "# check the type of above comaprison where it says comapre and see if x is less then z \n",
        "print(type(x<z))"
      ],
      "metadata": {
        "colab": {
          "base_uri": "https://localhost:8080/"
        },
        "id": "iOkz0eWkEgAD",
        "outputId": "ddb15e95-ad07-4974-abff-27c641e07fa6"
      },
      "execution_count": 19,
      "outputs": [
        {
          "output_type": "stream",
          "name": "stdout",
          "text": [
            "<class 'bool'>\n"
          ]
        }
      ]
    },
    {
      "cell_type": "markdown",
      "source": [
        "* `Bool` => takes two values, either `True` or `False`"
      ],
      "metadata": {
        "id": "l929hgP1Eycu"
      }
    },
    {
      "cell_type": "code",
      "source": [
        "# compare and see if x is less then or equall to z\n",
        "# can use '<=' symbol\n",
        "print(x<=z)"
      ],
      "metadata": {
        "colab": {
          "base_uri": "https://localhost:8080/"
        },
        "id": "9VJ97iWbEttE",
        "outputId": "15b481e2-3174-414f-ecbd-0b34ef640be5"
      },
      "execution_count": 20,
      "outputs": [
        {
          "output_type": "stream",
          "name": "stdout",
          "text": [
            "True\n"
          ]
        }
      ]
    },
    {
      "cell_type": "code",
      "source": [
        "# comapre and see if x equall to z\n",
        "# can use '==' symbol\n",
        "print(x==z)"
      ],
      "metadata": {
        "colab": {
          "base_uri": "https://localhost:8080/"
        },
        "id": "WGRRO-cqE5yg",
        "outputId": "f45284ce-3aa3-437e-b18a-422bd17bec4f"
      },
      "execution_count": 21,
      "outputs": [
        {
          "output_type": "stream",
          "name": "stdout",
          "text": [
            "False\n"
          ]
        }
      ]
    },
    {
      "cell_type": "code",
      "source": [
        "# comapre and see if x is greater than z\n",
        "# can use '>' symbol\n",
        "print(x>z)"
      ],
      "metadata": {
        "colab": {
          "base_uri": "https://localhost:8080/"
        },
        "id": "NmWBcJcSE_NE",
        "outputId": "7619ad98-8e04-4c6d-c6ad-f41c97922605"
      },
      "execution_count": 22,
      "outputs": [
        {
          "output_type": "stream",
          "name": "stdout",
          "text": [
            "False\n"
          ]
        }
      ]
    },
    {
      "cell_type": "code",
      "source": [
        "# comapre and see if x is greater than or equall to z\n",
        "# can use '>=' symbol\n",
        "print(x>=z)"
      ],
      "metadata": {
        "colab": {
          "base_uri": "https://localhost:8080/"
        },
        "id": "gzslW2MrFEqH",
        "outputId": "f69d4baf-76e5-4dc3-eb23-8fd0de565542"
      },
      "execution_count": 23,
      "outputs": [
        {
          "output_type": "stream",
          "name": "stdout",
          "text": [
            "False\n"
          ]
        }
      ]
    },
    {
      "cell_type": "code",
      "source": [
        "# comapre and see if x is Not equall to z\n",
        "# can use '!=' symbol\n",
        "print(x!=z)"
      ],
      "metadata": {
        "colab": {
          "base_uri": "https://localhost:8080/"
        },
        "id": "Vf-UXtUQFadP",
        "outputId": "8d2c2e65-c478-4cbf-fc6c-ab8d7080b57e"
      },
      "execution_count": 24,
      "outputs": [
        {
          "output_type": "stream",
          "name": "stdout",
          "text": [
            "True\n"
          ]
        }
      ]
    },
    {
      "cell_type": "markdown",
      "source": [
        "# **`Logical Operators`**"
      ],
      "metadata": {
        "id": "otx1X-ApFoGK"
      }
    },
    {
      "cell_type": "code",
      "source": [
        "# compare if 108 is equall to 108, 21 is equall to 21 using logical and \n",
        "# equall to => '=='\n",
        "# logical and => and\n",
        "\n",
        "# in and both condition must be True to get a True\n",
        "result = (108 == 108) and (21 == 21)\n",
        "print(result) "
      ],
      "metadata": {
        "colab": {
          "base_uri": "https://localhost:8080/"
        },
        "id": "vPb29MBmFhCo",
        "outputId": "065a5bb4-6c01-4c72-e1df-493cace3f14d"
      },
      "execution_count": 25,
      "outputs": [
        {
          "output_type": "stream",
          "name": "stdout",
          "text": [
            "True\n"
          ]
        }
      ]
    },
    {
      "cell_type": "code",
      "source": [
        "# how above condition can give False as output show all those conditions\n",
        "result1 = (108 == 109)  \n",
        "result2 = (21 == 22)  \n",
        "result3 = (108 == 109) and (21 == 22)\n",
        "\n",
        "print(result1)  \n",
        "print(result2)  \n",
        "print(result3)"
      ],
      "metadata": {
        "colab": {
          "base_uri": "https://localhost:8080/"
        },
        "id": "TPEZ7H0xF2Cy",
        "outputId": "0c3ed2bb-f732-4556-c909-6e872e7f12e2"
      },
      "execution_count": 26,
      "outputs": [
        {
          "output_type": "stream",
          "name": "stdout",
          "text": [
            "False\n",
            "False\n",
            "False\n"
          ]
        }
      ]
    },
    {
      "cell_type": "code",
      "source": [
        "# compare if 108 is equall to 108, 21 is equall to 11 using logical or\n",
        "# equall to => '=='\n",
        "# logical or => or\n",
        "\n",
        "# in or Only one condition need to be True to get a True\n",
        "result = (108 == 108) or (21 == 11)\n",
        "print(result)"
      ],
      "metadata": {
        "colab": {
          "base_uri": "https://localhost:8080/"
        },
        "id": "aMLEoaqNGNxT",
        "outputId": "fa2c36c0-469f-456d-92ed-8b75695379d8"
      },
      "execution_count": 27,
      "outputs": [
        {
          "output_type": "stream",
          "name": "stdout",
          "text": [
            "True\n"
          ]
        }
      ]
    },
    {
      "cell_type": "markdown",
      "source": [
        "# **`if`--- `else`** => to handle single condition <br>\n",
        "# **`if`--- `elif`--- `else`** => to handle Multiple condition"
      ],
      "metadata": {
        "id": "t5X0Ox_wG_Ae"
      }
    },
    {
      "cell_type": "markdown",
      "source": [
        "`Observe in Python code:` \n",
        "* `if` => statement in python\n",
        "* `else` => statement in python\n",
        "* `:` => colon => denotes start of if block i.e. any line written after colon belong to if condition\n",
        "* `....` => see then as indentation i.e. 4 spaces => indentation indicates all code belong to only if and then another indentation indicates code for only else block \n"
      ],
      "metadata": {
        "id": "MGN9z0OLHCpF"
      }
    },
    {
      "cell_type": "code",
      "source": [
        "# make variable with value as : money 100000\n",
        "\n",
        "# see output of money > 2000 \n",
        "money = 100000\n",
        "print(money>2000)"
      ],
      "metadata": {
        "colab": {
          "base_uri": "https://localhost:8080/"
        },
        "id": "STYOJBjwGnBR",
        "outputId": "799dc1be-3594-42e3-80d8-ce7af723e0e4"
      },
      "execution_count": 28,
      "outputs": [
        {
          "output_type": "stream",
          "name": "stdout",
          "text": [
            "True\n"
          ]
        }
      ]
    },
    {
      "cell_type": "code",
      "source": [
        "# assign money variable value of 10000\n",
        "##### say you have this much ammount in your account\n",
        "\n",
        "# start of if condition\n",
        "# if money is greater then 1000 which is data science course free\n",
        "# if money > 1000 is false i.e. you have less money then 1000 in your account then else will work for now only if is working\n",
        "if money > 1000:\n",
        "    print(\"Congratulations! You have enough money in your account for the data science course. It's free for you!\")\n",
        "else:\n",
        "    print(\"Oops! You have less money in your account than the required amount for the data science course.\")"
      ],
      "metadata": {
        "colab": {
          "base_uri": "https://localhost:8080/"
        },
        "id": "gKaOTf02HUbW",
        "outputId": "33f81b3d-6bc3-4620-ca2c-de166b50e688"
      },
      "execution_count": 29,
      "outputs": [
        {
          "output_type": "stream",
          "name": "stdout",
          "text": [
            "Congratulations! You have enough money in your account for the data science course. It's free for you!\n"
          ]
        }
      ]
    },
    {
      "cell_type": "code",
      "source": [
        "# take a test_score variable with 80 in it.\n",
        "test_score = 80\n",
        "# if test_score greater than 80 then print A grade\n",
        "# elif test_score greater then 60 and less then 80 print B grade\n",
        "# else print Nothing for you\n",
        "if test_score > 80:\n",
        "  print(\"A Grade\")\n",
        "elif test_score > 60 and test_score < 80:\n",
        "  print(\"B Grade\")\n",
        "else :\n",
        "  print(\"Nothing for you\")"
      ],
      "metadata": {
        "colab": {
          "base_uri": "https://localhost:8080/"
        },
        "id": "yITKdrydHpmt",
        "outputId": "324c295c-50c1-4e58-f882-7337826914b5"
      },
      "execution_count": 30,
      "outputs": [
        {
          "output_type": "stream",
          "name": "stdout",
          "text": [
            "Nothing for you\n"
          ]
        }
      ]
    },
    {
      "cell_type": "markdown",
      "source": [
        "# **`Python Loops`**"
      ],
      "metadata": {
        "id": "0aMJhXtEInx7"
      }
    },
    {
      "cell_type": "code",
      "source": [
        "\"\"\"\n",
        "for iterating_variable in sequence:\n",
        "    statement(s)\n",
        "\"\"\""
      ],
      "metadata": {
        "colab": {
          "base_uri": "https://localhost:8080/",
          "height": 35
        },
        "id": "QkcoHUvmIg14",
        "outputId": "22be7ee9-8bcd-431e-c5e9-90d203ed2a7a"
      },
      "execution_count": 31,
      "outputs": [
        {
          "output_type": "execute_result",
          "data": {
            "text/plain": [
              "'\\nfor iterating_variable in sequence:\\n    statement(s)\\n'"
            ],
            "application/vnd.google.colaboratory.intrinsic+json": {
              "type": "string"
            }
          },
          "metadata": {},
          "execution_count": 31
        }
      ]
    },
    {
      "cell_type": "code",
      "source": [
        "for iterating_variable in range(10):\n",
        "    print(iterating_variable)"
      ],
      "metadata": {
        "colab": {
          "base_uri": "https://localhost:8080/"
        },
        "id": "IGyuuuYkIuvl",
        "outputId": "bbe29520-e9a3-4f34-8e06-2d7427b9ff19"
      },
      "execution_count": 32,
      "outputs": [
        {
          "output_type": "stream",
          "name": "stdout",
          "text": [
            "0\n",
            "1\n",
            "2\n",
            "3\n",
            "4\n",
            "5\n",
            "6\n",
            "7\n",
            "8\n",
            "9\n"
          ]
        }
      ]
    },
    {
      "cell_type": "code",
      "source": [
        "# print 'I love sports' 10 times using for loop\n",
        "for i in range(10):\n",
        "  print(\"I love sports\")"
      ],
      "metadata": {
        "colab": {
          "base_uri": "https://localhost:8080/"
        },
        "id": "1zsCAsuQJAAt",
        "outputId": "27037da9-01d4-4ae6-a815-c9ac15209a29"
      },
      "execution_count": 33,
      "outputs": [
        {
          "output_type": "stream",
          "name": "stdout",
          "text": [
            "I love sports\n",
            "I love sports\n",
            "I love sports\n",
            "I love sports\n",
            "I love sports\n",
            "I love sports\n",
            "I love sports\n",
            "I love sports\n",
            "I love sports\n",
            "I love sports\n"
          ]
        }
      ]
    },
    {
      "cell_type": "markdown",
      "source": [
        "`10` => `stoping criteria` of, for loop"
      ],
      "metadata": {
        "id": "05iDJdubJbc9"
      }
    },
    {
      "cell_type": "markdown",
      "source": [
        "* `in` => keyword\n",
        "* `sequence` => on which to itterate\n",
        "* `:` => colon , start of for loop"
      ],
      "metadata": {
        "id": "BGIwxEtsJemD"
      }
    },
    {
      "cell_type": "markdown",
      "source": [
        "`!=` = not equall to => `behaves as a stoping criteria`"
      ],
      "metadata": {
        "id": "FmWgCGUOJhlL"
      }
    },
    {
      "cell_type": "code",
      "source": [
        "# Syntax of while loop\n",
        "\"\"\"\n",
        "while comparison:\n",
        "    statements(s)\n",
        "\"\"\""
      ],
      "metadata": {
        "colab": {
          "base_uri": "https://localhost:8080/",
          "height": 35
        },
        "id": "WgEd7_fkJW-m",
        "outputId": "c4ea60e6-7fb7-4f54-df83-7c8f30e6e6d6"
      },
      "execution_count": 34,
      "outputs": [
        {
          "output_type": "execute_result",
          "data": {
            "text/plain": [
              "'\\nwhile comparison:\\n    statements(s)\\n'"
            ],
            "application/vnd.google.colaboratory.intrinsic+json": {
              "type": "string"
            }
          },
          "metadata": {},
          "execution_count": 34
        }
      ]
    },
    {
      "cell_type": "code",
      "source": [
        "# while loop\n",
        "\n",
        "# save 0 in variable number\n",
        "number = 0\n",
        "# print till 10 using while loop\n",
        "while number <=10:\n",
        "  print(number)\n",
        "  number+=1"
      ],
      "metadata": {
        "colab": {
          "base_uri": "https://localhost:8080/"
        },
        "id": "PBmjAGR1Jkwn",
        "outputId": "5ef5c11c-a9dc-4b7a-fc63-cf4ab1f5879c"
      },
      "execution_count": 35,
      "outputs": [
        {
          "output_type": "stream",
          "name": "stdout",
          "text": [
            "0\n",
            "1\n",
            "2\n",
            "3\n",
            "4\n",
            "5\n",
            "6\n",
            "7\n",
            "8\n",
            "9\n",
            "10\n"
          ]
        }
      ]
    },
    {
      "cell_type": "markdown",
      "source": [
        "* Initialized variable `number = 0` and then increment it's value in each iteration\n",
        "* Loop will only continue to run only if value is less than 10"
      ],
      "metadata": {
        "id": "JadSxYcQKD13"
      }
    },
    {
      "cell_type": "markdown",
      "source": [
        "# **`Type of Jump Statements`** <br>\n",
        "`Break Statement`\n",
        "`Continue Statement`"
      ],
      "metadata": {
        "id": "Rh3MDRlJKHHt"
      }
    },
    {
      "cell_type": "markdown",
      "source": [
        "# **`Break Statement`**"
      ],
      "metadata": {
        "id": "0M1zBqk_KKkU"
      }
    },
    {
      "cell_type": "code",
      "source": [
        "# example that uses break statement in a for loop\n",
        "\n",
        "# take range(10) and print 'The number is' + value\n",
        "# break when num equals 5\n",
        "for num in range(10):\n",
        "  print('The number is',num)\n",
        "  if num == 5:\n",
        "    break"
      ],
      "metadata": {
        "colab": {
          "base_uri": "https://localhost:8080/"
        },
        "id": "HjbrwP1-KEUp",
        "outputId": "6a6600d9-c319-4f37-a85b-fcfda868ef68"
      },
      "execution_count": 36,
      "outputs": [
        {
          "output_type": "stream",
          "name": "stdout",
          "text": [
            "The number is 0\n",
            "The number is 1\n",
            "The number is 2\n",
            "The number is 3\n",
            "The number is 4\n",
            "The number is 5\n"
          ]
        }
      ]
    },
    {
      "cell_type": "markdown",
      "source": [
        "# **`Continue Statement`**"
      ],
      "metadata": {
        "id": "H_FtEznPK1T1"
      }
    },
    {
      "cell_type": "code",
      "source": [
        "# Using same `for loop program` as in Break Statement section above\n",
        "# Use a continue statement rather than a break statement\n",
        "\n",
        "# take range(10) and print 'The number is' + value\n",
        "# continue when num equals 5\n",
        "for num in range(10):\n",
        "  if num == 5:\n",
        "    continue\n",
        "  print('The number is ',num)\n",
        "  \n"
      ],
      "metadata": {
        "colab": {
          "base_uri": "https://localhost:8080/"
        },
        "id": "H69bblsRKpjs",
        "outputId": "b7b7cb51-f20e-4205-e844-f1633cc0766a"
      },
      "execution_count": 37,
      "outputs": [
        {
          "output_type": "stream",
          "name": "stdout",
          "text": [
            "The number is  0\n",
            "The number is  1\n",
            "The number is  2\n",
            "The number is  3\n",
            "The number is  4\n",
            "The number is  6\n",
            "The number is  7\n",
            "The number is  8\n",
            "The number is  9\n"
          ]
        }
      ]
    },
    {
      "cell_type": "markdown",
      "source": [
        "# **`String Manipulation`**"
      ],
      "metadata": {
        "id": "4D9pv1ksLnAL"
      }
    },
    {
      "cell_type": "code",
      "source": [
        "string_ = '' or \"\" or \"\"\" \"\"\""
      ],
      "metadata": {
        "id": "eOoEXA5QLbzG"
      },
      "execution_count": 38,
      "outputs": []
    },
    {
      "cell_type": "code",
      "source": [
        "# define a string variable with \"We are creating next generation data science eco-system at CollegeRanker\"\n",
        "statement = \"We are creating next generation data science eco-system at CollegeRanker\"\n",
        "print(statement)\n"
      ],
      "metadata": {
        "colab": {
          "base_uri": "https://localhost:8080/"
        },
        "id": "70yHYkPJLqKN",
        "outputId": "a2140764-11a3-442c-e2b8-7cb73499ceb2"
      },
      "execution_count": 39,
      "outputs": [
        {
          "output_type": "stream",
          "name": "stdout",
          "text": [
            "We are creating next generation data science eco-system at CollegeRanker\n"
          ]
        }
      ]
    },
    {
      "cell_type": "code",
      "source": [
        "# Find length of string including spaces\n",
        "print(len(statement))"
      ],
      "metadata": {
        "colab": {
          "base_uri": "https://localhost:8080/"
        },
        "id": "ajS6dvF1L5EC",
        "outputId": "4c80a1b4-f8e6-40bf-fc87-7ea6c57c5149"
      },
      "execution_count": 40,
      "outputs": [
        {
          "output_type": "stream",
          "name": "stdout",
          "text": [
            "72\n"
          ]
        }
      ]
    },
    {
      "cell_type": "code",
      "source": [
        "# Access characters in a string with indexing i.e string[0]\n",
        "print(statement[0]) # accessing the first character\n",
        "print(statement[4]) # accessing the fifth character"
      ],
      "metadata": {
        "colab": {
          "base_uri": "https://localhost:8080/"
        },
        "id": "jViaSA1qMCFV",
        "outputId": "67f0e938-1643-4aed-f056-ec8c86cf3af9"
      },
      "execution_count": 41,
      "outputs": [
        {
          "output_type": "stream",
          "name": "stdout",
          "text": [
            "W\n",
            "r\n"
          ]
        }
      ]
    },
    {
      "cell_type": "code",
      "source": [
        "# Access characters with negative indexing i.e string[-1]\n",
        "print(statement[-1]) # accessing the last character\n",
        "print(statement[-2]) # accessing the second last character"
      ],
      "metadata": {
        "colab": {
          "base_uri": "https://localhost:8080/"
        },
        "id": "t7QzFGRCMwOI",
        "outputId": "cbe37b63-ec53-4746-d834-3fe3c24f6fab"
      },
      "execution_count": 42,
      "outputs": [
        {
          "output_type": "stream",
          "name": "stdout",
          "text": [
            "r\n",
            "e\n"
          ]
        }
      ]
    },
    {
      "cell_type": "markdown",
      "source": [
        "# String Slicing"
      ],
      "metadata": {
        "id": "G1vDswsTN0BB"
      }
    },
    {
      "cell_type": "code",
      "source": [
        "# select string from first to 6th element i.e string[:6]\n",
        "print(statement[:6])"
      ],
      "metadata": {
        "colab": {
          "base_uri": "https://localhost:8080/"
        },
        "id": "_F4L3-dNNanE",
        "outputId": "a3a04e00-bc9a-4ef2-9ce3-ffb04c3040bb"
      },
      "execution_count": 43,
      "outputs": [
        {
          "output_type": "stream",
          "name": "stdout",
          "text": [
            "We are\n"
          ]
        }
      ]
    },
    {
      "cell_type": "code",
      "source": [
        "# select string from 7th to negative 10th element i.e string[7:-10]\n",
        "print(statement[7:-10])"
      ],
      "metadata": {
        "colab": {
          "base_uri": "https://localhost:8080/"
        },
        "id": "EjUmLK_6N7WK",
        "outputId": "6104d419-5894-4f20-f01d-7e915a2e813c"
      },
      "execution_count": 44,
      "outputs": [
        {
          "output_type": "stream",
          "name": "stdout",
          "text": [
            "creating next generation data science eco-system at Col\n"
          ]
        }
      ]
    },
    {
      "cell_type": "markdown",
      "source": [
        "Count of a particular `character` in a string"
      ],
      "metadata": {
        "id": "tUfqwt4_Oi4M"
      }
    },
    {
      "cell_type": "code",
      "source": [
        "character = \"e\"\n",
        "count = statement.count(character)\n",
        "print(\"Count of\", character, \"in the string:\", count)"
      ],
      "metadata": {
        "colab": {
          "base_uri": "https://localhost:8080/"
        },
        "id": "UO-gRNL3OJYS",
        "outputId": "9fee4e4e-f60f-4251-cf5b-560211572bba"
      },
      "execution_count": 45,
      "outputs": [
        {
          "output_type": "stream",
          "name": "stdout",
          "text": [
            "Count of e in the string: 13\n"
          ]
        }
      ]
    },
    {
      "cell_type": "markdown",
      "source": [
        "Count of a particular `sub-string` in a string "
      ],
      "metadata": {
        "id": "jZe0u_f5O3sF"
      }
    },
    {
      "cell_type": "code",
      "source": [
        "substring = \"generation\"\n",
        "count = statement.count(substring)\n",
        "print(\"Count of\", substring, \"in the string:\", count)"
      ],
      "metadata": {
        "colab": {
          "base_uri": "https://localhost:8080/"
        },
        "id": "CpigBRzGOpWT",
        "outputId": "3660fda1-87b4-4058-832d-71bd01dc2a08"
      },
      "execution_count": 46,
      "outputs": [
        {
          "output_type": "stream",
          "name": "stdout",
          "text": [
            "Count of generation in the string: 1\n"
          ]
        }
      ]
    },
    {
      "cell_type": "markdown",
      "source": [
        "Find a substring in string using `find` and `index` function"
      ],
      "metadata": {
        "id": "BHFNYNKWplia"
      }
    },
    {
      "cell_type": "code",
      "source": [
        "# .find() => if present it will return starting index, not found then it will return -1\n",
        "# .index() => if present it will return starting index, not found then it will give error\n",
        "substring = \"generation\"\n",
        "index = statement.find(substring)\n",
        "print(\"Starting index of\", substring, \"in the string:\", index)"
      ],
      "metadata": {
        "colab": {
          "base_uri": "https://localhost:8080/"
        },
        "id": "j-LpNIdVpmBT",
        "outputId": "6b14a0f8-1e92-4488-9163-b61cdc09a1bb"
      },
      "execution_count": 47,
      "outputs": [
        {
          "output_type": "stream",
          "name": "stdout",
          "text": [
            "Starting index of generation in the string: 21\n"
          ]
        }
      ]
    },
    {
      "cell_type": "code",
      "source": [
        "### Checking whether string `startswith` or `endswith` a particular substring or not\n",
        "substring = \"We are\"\n",
        "starts_with_substring = statement.startswith(substring)\n",
        "print(\"Starts with\", substring, \":\", starts_with_substring)"
      ],
      "metadata": {
        "colab": {
          "base_uri": "https://localhost:8080/"
        },
        "id": "DeG3sZTWpxaq",
        "outputId": "620d39ee-cf19-436a-aed2-a7fcbdea3a3c"
      },
      "execution_count": 48,
      "outputs": [
        {
          "output_type": "stream",
          "name": "stdout",
          "text": [
            "Starts with We are : True\n"
          ]
        }
      ]
    },
    {
      "cell_type": "code",
      "source": [
        "### Converting string to upper case ###\n",
        "print(statement.upper())"
      ],
      "metadata": {
        "colab": {
          "base_uri": "https://localhost:8080/"
        },
        "id": "DIzDnbbHqMFU",
        "outputId": "4008c3dd-ca36-4320-8d03-c338dc38f73a"
      },
      "execution_count": 50,
      "outputs": [
        {
          "output_type": "stream",
          "name": "stdout",
          "text": [
            "WE ARE CREATING NEXT GENERATION DATA SCIENCE ECO-SYSTEM AT COLLEGERANKER\n"
          ]
        }
      ]
    },
    {
      "cell_type": "code",
      "source": [
        "### Converting only first character of string to upper casev\n",
        "print(statement.capitalize())"
      ],
      "metadata": {
        "colab": {
          "base_uri": "https://localhost:8080/"
        },
        "id": "67MOBgVzqbnt",
        "outputId": "fb757a82-6bed-4eae-de47-3ca0ce3d1426"
      },
      "execution_count": 51,
      "outputs": [
        {
          "output_type": "stream",
          "name": "stdout",
          "text": [
            "We are creating next generation data science eco-system at collegeranker\n"
          ]
        }
      ]
    },
    {
      "cell_type": "code",
      "source": [
        "### Checking if string is in lower case or upper case\n",
        "is_lower = statement.islower()\n",
        "print(\"Is the string in lowercase?\", is_lower)"
      ],
      "metadata": {
        "colab": {
          "base_uri": "https://localhost:8080/"
        },
        "id": "JUUhAbOGqxmP",
        "outputId": "384d0a6d-a25c-4063-862a-4d4e18afe54c"
      },
      "execution_count": 53,
      "outputs": [
        {
          "output_type": "stream",
          "name": "stdout",
          "text": [
            "Is the string in lowercase? False\n"
          ]
        }
      ]
    },
    {
      "cell_type": "code",
      "source": [
        "is_upper = statement.isupper()\n",
        "print(\"Is the string in uppercase?\", is_upper)"
      ],
      "metadata": {
        "colab": {
          "base_uri": "https://localhost:8080/"
        },
        "id": "pGit2kWorDF3",
        "outputId": "b5d4be73-675b-4179-a87a-fb340e31df37"
      },
      "execution_count": 54,
      "outputs": [
        {
          "output_type": "stream",
          "name": "stdout",
          "text": [
            "Is the string in uppercase? False\n"
          ]
        }
      ]
    },
    {
      "cell_type": "code",
      "source": [
        "## Checking if string is digit, alpabetic, alpha-numeric\n",
        "print(statement.isdigit())\n",
        "print(statement.isalpha())\n",
        "print(statement.isalnum())"
      ],
      "metadata": {
        "colab": {
          "base_uri": "https://localhost:8080/"
        },
        "id": "NYbHMVBXrSze",
        "outputId": "a820d153-fd94-4195-fbd7-a466fa35e463"
      },
      "execution_count": 55,
      "outputs": [
        {
          "output_type": "stream",
          "name": "stdout",
          "text": [
            "False\n",
            "False\n",
            "False\n"
          ]
        }
      ]
    },
    {
      "cell_type": "code",
      "source": [
        "# assign \"C++ is easy to learn\" to a new_str variable\n",
        "new_str = \"C++ is easy to learn\"\n",
        "print(new_str)\n"
      ],
      "metadata": {
        "colab": {
          "base_uri": "https://localhost:8080/"
        },
        "id": "7sYhk0odr1ko",
        "outputId": "b3e815e6-7a51-484e-fdb8-ccb71c436c90"
      },
      "execution_count": 56,
      "outputs": [
        {
          "output_type": "stream",
          "name": "stdout",
          "text": [
            "C++ is easy to learn\n"
          ]
        }
      ]
    },
    {
      "cell_type": "code",
      "source": [
        "### Replace C++ with Python\n",
        "original_str = \"C++ is easy to learn\"\n",
        "new_str = original_str.replace(\"C++\", \"Python\")\n",
        "print(new_str)\n"
      ],
      "metadata": {
        "colab": {
          "base_uri": "https://localhost:8080/"
        },
        "id": "vRQBicgesDcZ",
        "outputId": "649baa6b-b25a-464b-9423-4d10a2eb1a38"
      },
      "execution_count": 57,
      "outputs": [
        {
          "output_type": "stream",
          "name": "stdout",
          "text": [
            "Python is easy to learn\n"
          ]
        }
      ]
    },
    {
      "cell_type": "code",
      "source": [
        "### Use Split function on new_str ###\n",
        "print(new_str.split())"
      ],
      "metadata": {
        "colab": {
          "base_uri": "https://localhost:8080/"
        },
        "id": "rtWSdB0lsSKg",
        "outputId": "1a1f9a22-ea20-48fe-cd46-04c648742919"
      },
      "execution_count": 58,
      "outputs": [
        {
          "output_type": "stream",
          "name": "stdout",
          "text": [
            "['Python', 'is', 'easy', 'to', 'learn']\n"
          ]
        }
      ]
    },
    {
      "cell_type": "markdown",
      "source": [
        "# **`Python Functions`**"
      ],
      "metadata": {
        "id": "O7GlqonQsgDx"
      }
    },
    {
      "cell_type": "code",
      "source": [
        "\"\"\"\n",
        "def function_name():\n",
        "    stetement(s)\n",
        "\"\"\""
      ],
      "metadata": {
        "colab": {
          "base_uri": "https://localhost:8080/",
          "height": 35
        },
        "id": "9edYs0e3sbp5",
        "outputId": "40218b0e-f969-4430-a363-326a4272fed5"
      },
      "execution_count": 59,
      "outputs": [
        {
          "output_type": "execute_result",
          "data": {
            "text/plain": [
              "'\\ndef function_name():\\n    stetement(s)\\n'"
            ],
            "application/vnd.google.colaboratory.intrinsic+json": {
              "type": "string"
            }
          },
          "metadata": {},
          "execution_count": 59
        }
      ]
    },
    {
      "cell_type": "code",
      "source": [
        "# define a function with welcome_message(name) and body 'Welcome to Functions !!!'\n",
        "def welcome_message(name):\n",
        "    print(f\"Welcome, {name}!\")\n",
        "    print(\"Welcome to Function!!!\")\n",
        "\n"
      ],
      "metadata": {
        "id": "0ZLBTUfzsjZp"
      },
      "execution_count": 62,
      "outputs": []
    },
    {
      "cell_type": "code",
      "source": [
        "# call a function with your name\n",
        "welcome_message('Midhun')"
      ],
      "metadata": {
        "colab": {
          "base_uri": "https://localhost:8080/"
        },
        "id": "LC7c_rHus2wK",
        "outputId": "e9b48451-ede4-4e88-a5ba-6e3bfc4902af"
      },
      "execution_count": 63,
      "outputs": [
        {
          "output_type": "stream",
          "name": "stdout",
          "text": [
            "Welcome, Midhun!\n",
            "Welcome to Function!!!\n"
          ]
        }
      ]
    },
    {
      "cell_type": "markdown",
      "source": [
        "* `def` Keyword marking start of function\n",
        "* `function name` to uniquely identify function\n",
        "    * `function naming` follows same `rules of writing identifiers`\n",
        "* `parameters`(arguments) to pass values to a function => totally optional\n",
        "* `()` paranthesis\n",
        "* `colon (:)` start of function\n",
        "* `documentation string`(docstring) describe's what function does => totally optional\n",
        "* `return statement` returns a value from function => totally optional\n",
        "* inside colon is `function definition` it should always be present before function call or get an error"
      ],
      "metadata": {
        "id": "twWlw0votRZF"
      }
    },
    {
      "cell_type": "code",
      "source": [
        "# Write a function to add two number which are as 3 and 4\n",
        "# in total variable store adition of 3 + 4\n",
        "# print total variable \n",
        "def add_numbers():\n",
        "    num1 = 3\n",
        "    num2 = 4\n",
        "    total = num1 + num2\n",
        "    return total\n",
        "\n",
        "\n",
        "result = add_numbers()\n",
        "print(\"Total:\", result)\n"
      ],
      "metadata": {
        "colab": {
          "base_uri": "https://localhost:8080/"
        },
        "id": "EbcA2zgQtR6U",
        "outputId": "fe75350f-631c-4a27-8c72-a61d80aa8db0"
      },
      "execution_count": 64,
      "outputs": [
        {
          "output_type": "stream",
          "name": "stdout",
          "text": [
            "Total: 7\n"
          ]
        }
      ]
    },
    {
      "cell_type": "markdown",
      "source": [
        "# ***`Positional Arguments`*** \n",
        "Most arguments are identified by their position in function call\n",
        "* Say `print(x,y)` will give different results from `print(y,x)`\n",
        "\n",
        "What ever sequence is given while defining a function values must be taken in that sequence only\n",
        "* Otherwise use argument name **`(keyword arguments)`** to take values\n",
        "* We first define `positional argument` and then `keyword arguments`"
      ],
      "metadata": {
        "id": "XkgbCkkjto9h"
      }
    },
    {
      "cell_type": "code",
      "source": [
        "## Create substraction_function(small_number,large_number) and return difference between large_number and small_number\n",
        "def subtraction_function(small_number, large_number):\n",
        "    difference = large_number - small_number\n",
        "    return difference\n"
      ],
      "metadata": {
        "id": "XOdnSQRttgyz"
      },
      "execution_count": 65,
      "outputs": []
    },
    {
      "cell_type": "code",
      "source": [
        "result = subtraction_function(3, 8)\n",
        "print(\"Difference:\", result)"
      ],
      "metadata": {
        "colab": {
          "base_uri": "https://localhost:8080/"
        },
        "id": "FbpVGu6Nt4Ho",
        "outputId": "507ffa02-3037-472b-a665-c45c7167a932"
      },
      "execution_count": 66,
      "outputs": [
        {
          "output_type": "stream",
          "name": "stdout",
          "text": [
            "Difference: 5\n"
          ]
        }
      ]
    },
    {
      "cell_type": "markdown",
      "source": [
        "# ***`Scope of Variables`*** means that part of program where we can access particular variable\n",
        "* `Local Variable` => variables defined inside a function and can be only accessed from inside of that particular function\n",
        "* `Global Variable` => variables defined outside a function and can be accessed throughout program\n",
        "\n",
        "Let's define a global variable, `\"global_variable\"` outside function\n",
        "* We will return its value using a function `\"randome_function\"` and see that we would be able to access its value using that function also"
      ],
      "metadata": {
        "id": "IdxUc5U9uUA1"
      }
    },
    {
      "cell_type": "code",
      "source": [
        "#### Observe every output from here onwords #####\n",
        "# defining a global variable\n",
        "global_variable = 'variable outside of function'\n",
        "\n",
        "# defining function\n",
        "def random_function():\n",
        "    # accessing variable which is outside of this function\n",
        "    return global_variable"
      ],
      "metadata": {
        "id": "BTr3VqLxuQmk"
      },
      "execution_count": 67,
      "outputs": []
    },
    {
      "cell_type": "code",
      "source": [
        "random_function()"
      ],
      "metadata": {
        "colab": {
          "base_uri": "https://localhost:8080/",
          "height": 35
        },
        "id": "cBBqReSbuZuc",
        "outputId": "ea773a3a-0635-41b9-acd9-5b45e40b1338"
      },
      "execution_count": 68,
      "outputs": [
        {
          "output_type": "execute_result",
          "data": {
            "text/plain": [
              "'variable outside of function'"
            ],
            "application/vnd.google.colaboratory.intrinsic+json": {
              "type": "string"
            }
          },
          "metadata": {},
          "execution_count": 68
        }
      ]
    },
    {
      "cell_type": "markdown",
      "source": [
        "`See we can acess the data of golbal variable from Inside of the Function`"
      ],
      "metadata": {
        "id": "pj_y71lWugFX"
      }
    },
    {
      "cell_type": "code",
      "source": [
        "#### Observe every output from here onwords #####\n",
        "# defining a global variable\n",
        "global_variable = 'variable outside of function'\n",
        "\n",
        "# defining function\n",
        "def random_function():\n",
        "    # changing value of global variable from inside of the function\n",
        "    global_variable = 'changing variable outside of function from inside of function'\n",
        "    # accessing variable which is outside of this function\n",
        "    return global_variable"
      ],
      "metadata": {
        "id": "RtHR1st_ucOD"
      },
      "execution_count": 69,
      "outputs": []
    },
    {
      "cell_type": "code",
      "source": [
        "print(random_function())\n",
        "print(global_variable)"
      ],
      "metadata": {
        "colab": {
          "base_uri": "https://localhost:8080/"
        },
        "id": "S8w7Y01-uil9",
        "outputId": "a13466d4-1cd0-47d2-b046-e9d02c6aacbf"
      },
      "execution_count": 70,
      "outputs": [
        {
          "output_type": "stream",
          "name": "stdout",
          "text": [
            "changing variable outside of function from inside of function\n",
            "variable outside of function\n"
          ]
        }
      ]
    },
    {
      "cell_type": "code",
      "source": [],
      "metadata": {
        "id": "D8bklfheulj1"
      },
      "execution_count": null,
      "outputs": []
    }
  ]
}